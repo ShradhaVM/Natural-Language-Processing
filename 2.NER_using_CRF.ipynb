{
  "nbformat": 4,
  "nbformat_minor": 0,
  "metadata": {
    "colab": {
      "name": "NLP_Assignment4.ipynb",
      "provenance": [],
      "collapsed_sections": [],
      "machine_shape": "hm"
    },
    "kernelspec": {
      "name": "python3",
      "display_name": "Python 3"
    },
    "language_info": {
      "name": "python"
    }
  },
  "cells": [
    {
      "cell_type": "markdown",
      "metadata": {
        "id": "sUdb84XyEhwv"
      },
      "source": [
        "# Named Entity Recognition\n",
        "\n",
        "In this assignment, named entity recognition is performed using Conditional Random Field and using Stochastic Gradient Descent. \n",
        "\n",
        "The results obtained in metrics is as follows\n",
        "\n",
        "![res_ner.PNG](data:image/png;base64,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)"
      ]
    },
    {
      "cell_type": "markdown",
      "metadata": {
        "id": "mfjNAO_sKo54"
      },
      "source": [
        "**Please find the [flowchart](https://drive.google.com/file/d/1XRJl1x2Zjuw617a9-0jQCDZxfMvnJyLV/view?usp=sharing) of this assignment.**"
      ]
    },
    {
      "cell_type": "markdown",
      "metadata": {
        "id": "0Ym93nb7HLou"
      },
      "source": [
        "**Downloading the dataset**"
      ]
    },
    {
      "cell_type": "code",
      "metadata": {
        "colab": {
          "base_uri": "https://localhost:8080/"
        },
        "id": "crp4sLORv0eG",
        "outputId": "a9890a16-668f-40d4-93ee-1f7282bdc496"
      },
      "source": [
        "!gdown --id 19CtxJxsYs8hFMXpHkcmhD612OG86943e"
      ],
      "execution_count": 1,
      "outputs": [
        {
          "output_type": "stream",
          "name": "stdout",
          "text": [
            "Downloading...\n",
            "From: https://drive.google.com/uc?id=19CtxJxsYs8hFMXpHkcmhD612OG86943e\n",
            "To: /content/ner_dataset.csv.zip\n",
            "\r0.00B [00:00, ?B/s]\r3.32MB [00:00, 52.2MB/s]\n"
          ]
        }
      ]
    },
    {
      "cell_type": "markdown",
      "metadata": {
        "id": "uAP1JW8pHTqG"
      },
      "source": [
        "**Extracting the dataset**"
      ]
    },
    {
      "cell_type": "code",
      "metadata": {
        "colab": {
          "base_uri": "https://localhost:8080/"
        },
        "id": "bwuk3wO3wD6b",
        "outputId": "c5f156d3-d4bf-4faf-f924-854ca1daa3b1"
      },
      "source": [
        "!unzip /content/ner_dataset.csv.zip"
      ],
      "execution_count": 2,
      "outputs": [
        {
          "output_type": "stream",
          "name": "stdout",
          "text": [
            "Archive:  /content/ner_dataset.csv.zip\n",
            "  inflating: ner_dataset.csv         \n"
          ]
        }
      ]
    },
    {
      "cell_type": "markdown",
      "metadata": {
        "id": "dxR5OJNbHWwU"
      },
      "source": [
        "**Downloading the sklearn crfsuit for CRF model**"
      ]
    },
    {
      "cell_type": "code",
      "metadata": {
        "colab": {
          "base_uri": "https://localhost:8080/"
        },
        "id": "qrrGdgMheG72",
        "outputId": "279e2000-1532-4b24-ffce-037d89547933"
      },
      "source": [
        "!pip install sklearn_crfsuite"
      ],
      "execution_count": 3,
      "outputs": [
        {
          "output_type": "stream",
          "name": "stdout",
          "text": [
            "Collecting sklearn_crfsuite\n",
            "  Downloading sklearn_crfsuite-0.3.6-py2.py3-none-any.whl (12 kB)\n",
            "Collecting python-crfsuite>=0.8.3\n",
            "  Downloading python_crfsuite-0.9.7-cp37-cp37m-manylinux1_x86_64.whl (743 kB)\n",
            "\u001b[K     |████████████████████████████████| 743 kB 11.6 MB/s \n",
            "\u001b[?25hRequirement already satisfied: six in /usr/local/lib/python3.7/dist-packages (from sklearn_crfsuite) (1.15.0)\n",
            "Requirement already satisfied: tabulate in /usr/local/lib/python3.7/dist-packages (from sklearn_crfsuite) (0.8.9)\n",
            "Requirement already satisfied: tqdm>=2.0 in /usr/local/lib/python3.7/dist-packages (from sklearn_crfsuite) (4.62.0)\n",
            "Installing collected packages: python-crfsuite, sklearn-crfsuite\n",
            "Successfully installed python-crfsuite-0.9.7 sklearn-crfsuite-0.3.6\n"
          ]
        }
      ]
    },
    {
      "cell_type": "markdown",
      "metadata": {
        "id": "VachmNDNHcL3"
      },
      "source": [
        "**Importing the required packages and libraries**"
      ]
    },
    {
      "cell_type": "code",
      "metadata": {
        "id": "981plJ4cwbva"
      },
      "source": [
        "import pandas as pd                                           \n",
        "import numpy as np     \n",
        "import sklearn                                       \n",
        "from sklearn.feature_extraction import DictVectorizer          \n",
        "from sklearn.model_selection import train_test_split          \n",
        "from sklearn_crfsuite import CRF\n",
        "from sklearn.linear_model import SGDClassifier\n",
        "from sklearn.model_selection import cross_val_predict\n",
        "from sklearn_crfsuite.metrics import flat_classification_report\n",
        "from sklearn_crfsuite import metrics\n",
        "import warnings\n",
        "warnings.filterwarnings(\"ignore\")"
      ],
      "execution_count": 4,
      "outputs": []
    },
    {
      "cell_type": "markdown",
      "metadata": {
        "id": "LXIGpnyhHis9"
      },
      "source": [
        "**Storing the data into Pandas dataframe**"
      ]
    },
    {
      "cell_type": "code",
      "metadata": {
        "id": "I_6lQ0xlwVh_"
      },
      "source": [
        "df = pd.read_csv('/content/ner_dataset.csv',  encoding = \"ISO-8859-1\")"
      ],
      "execution_count": 5,
      "outputs": []
    },
    {
      "cell_type": "code",
      "metadata": {
        "colab": {
          "base_uri": "https://localhost:8080/",
          "height": 204
        },
        "id": "RYZbYOL5w_Z9",
        "outputId": "66d68f76-1d0a-4c64-dc62-9533ab54db0d"
      },
      "source": [
        "df.head()"
      ],
      "execution_count": 6,
      "outputs": [
        {
          "output_type": "execute_result",
          "data": {
            "text/html": [
              "<div>\n",
              "<style scoped>\n",
              "    .dataframe tbody tr th:only-of-type {\n",
              "        vertical-align: middle;\n",
              "    }\n",
              "\n",
              "    .dataframe tbody tr th {\n",
              "        vertical-align: top;\n",
              "    }\n",
              "\n",
              "    .dataframe thead th {\n",
              "        text-align: right;\n",
              "    }\n",
              "</style>\n",
              "<table border=\"1\" class=\"dataframe\">\n",
              "  <thead>\n",
              "    <tr style=\"text-align: right;\">\n",
              "      <th></th>\n",
              "      <th>Sentence #</th>\n",
              "      <th>Word</th>\n",
              "      <th>POS</th>\n",
              "      <th>Tag</th>\n",
              "    </tr>\n",
              "  </thead>\n",
              "  <tbody>\n",
              "    <tr>\n",
              "      <th>0</th>\n",
              "      <td>Sentence: 1</td>\n",
              "      <td>Thousands</td>\n",
              "      <td>NNS</td>\n",
              "      <td>O</td>\n",
              "    </tr>\n",
              "    <tr>\n",
              "      <th>1</th>\n",
              "      <td>NaN</td>\n",
              "      <td>of</td>\n",
              "      <td>IN</td>\n",
              "      <td>O</td>\n",
              "    </tr>\n",
              "    <tr>\n",
              "      <th>2</th>\n",
              "      <td>NaN</td>\n",
              "      <td>demonstrators</td>\n",
              "      <td>NNS</td>\n",
              "      <td>O</td>\n",
              "    </tr>\n",
              "    <tr>\n",
              "      <th>3</th>\n",
              "      <td>NaN</td>\n",
              "      <td>have</td>\n",
              "      <td>VBP</td>\n",
              "      <td>O</td>\n",
              "    </tr>\n",
              "    <tr>\n",
              "      <th>4</th>\n",
              "      <td>NaN</td>\n",
              "      <td>marched</td>\n",
              "      <td>VBN</td>\n",
              "      <td>O</td>\n",
              "    </tr>\n",
              "  </tbody>\n",
              "</table>\n",
              "</div>"
            ],
            "text/plain": [
              "    Sentence #           Word  POS Tag\n",
              "0  Sentence: 1      Thousands  NNS   O\n",
              "1          NaN             of   IN   O\n",
              "2          NaN  demonstrators  NNS   O\n",
              "3          NaN           have  VBP   O\n",
              "4          NaN        marched  VBN   O"
            ]
          },
          "metadata": {},
          "execution_count": 6
        }
      ]
    },
    {
      "cell_type": "markdown",
      "metadata": {
        "id": "vTsNuEioHmLW"
      },
      "source": [
        "**Obtaining the tags which act as labels in our training. And also, obtaining total number classes in the entire dataset.**"
      ]
    },
    {
      "cell_type": "code",
      "metadata": {
        "id": "C0tvUxNAmNwS"
      },
      "source": [
        "y = df.Tag.values\n",
        "classes = np.unique(y)\n",
        "classes = classes.tolist()"
      ],
      "execution_count": 7,
      "outputs": []
    },
    {
      "cell_type": "markdown",
      "metadata": {
        "id": "S_F2m98QHx5t"
      },
      "source": [
        "# Data Preparation\n",
        "Preparing our data in the form of nested list where each element contrains (word, pos, tag) pairs. This will help us with data compatibility when putting it for training in CRF model. "
      ]
    },
    {
      "cell_type": "code",
      "metadata": {
        "id": "TowjRkfpw9m2"
      },
      "source": [
        "convert_to_list = lambda sent: [(word, pos, tag) for word, pos, tag in zip(sent[\"Word\"].values.tolist(), sent[\"POS\"].values.tolist(), sent[\"Tag\"].values.tolist())]\n",
        "df_grouped = df.groupby(\"Sentence #\").apply(convert_to_list)\n",
        "df_sentences = [s for s in df_grouped]"
      ],
      "execution_count": 8,
      "outputs": []
    },
    {
      "cell_type": "markdown",
      "metadata": {
        "id": "rLFdE6VlIShu"
      },
      "source": [
        "**Functions for obtaining unlabelled data (word, postag) pairs and labels separatively.**"
      ]
    },
    {
      "cell_type": "code",
      "metadata": {
        "id": "cxpfogwIbD9F"
      },
      "source": [
        "def word_pos_pair(sent, i):\n",
        "    word = sent[i][0]\n",
        "    postag = sent[i][1]\n",
        "    return word,postag\n",
        "\n",
        "def pair_sent(sent):\n",
        "    return [word_pos_pair(sent, i) for i in range(len(sent))]\n",
        "\n",
        "def sent_tags(sent):\n",
        "    return [label for token, postag, label in sent]"
      ],
      "execution_count": 9,
      "outputs": []
    },
    {
      "cell_type": "markdown",
      "metadata": {
        "id": "ffQ3BHPYIPiN"
      },
      "source": [
        "**Getting the data using above functions and splitting the data using sklearn train_test_split**"
      ]
    },
    {
      "cell_type": "code",
      "metadata": {
        "id": "XRk_xGX29JAg"
      },
      "source": [
        "X = [pair_sent(s) for s in df_sentences]\n",
        "y = [sent_tags(s) for s in df_sentences]\n",
        "X_train, X_test, y_train, y_test = train_test_split(X, y, test_size=0.20)\n",
        "del X\n",
        "del y\n",
        "del df_sentences"
      ],
      "execution_count": 10,
      "outputs": []
    },
    {
      "cell_type": "code",
      "metadata": {
        "colab": {
          "base_uri": "https://localhost:8080/"
        },
        "id": "eEggMtwpN5Py",
        "outputId": "ceea877b-88f5-4d90-e06b-1964b8282b95"
      },
      "source": [
        "X_train[:10]"
      ],
      "execution_count": 11,
      "outputs": [
        {
          "output_type": "execute_result",
          "data": {
            "text/plain": [
              "[[('The', 'DT')],\n",
              " [('The', 'DT')],\n",
              " [('Tribal', 'NNP')],\n",
              " [('Two', 'CD')],\n",
              " [('GDP', 'NN')],\n",
              " [('The', 'DT')],\n",
              " [('The', 'DT')],\n",
              " [('Vices', 'NNS')],\n",
              " [('Federal', 'NNP')],\n",
              " [('It', 'PRP')]]"
            ]
          },
          "metadata": {},
          "execution_count": 11
        }
      ]
    },
    {
      "cell_type": "code",
      "metadata": {
        "colab": {
          "base_uri": "https://localhost:8080/"
        },
        "id": "LCZThq-rPksd",
        "outputId": "2170231f-118e-4db3-f8e8-ef14f3584500"
      },
      "source": [
        "y_train[:10]"
      ],
      "execution_count": 12,
      "outputs": [
        {
          "output_type": "execute_result",
          "data": {
            "text/plain": [
              "[['O'], ['O'], ['O'], ['O'], ['O'], ['O'], ['O'], ['O'], ['B-org'], ['O']]"
            ]
          },
          "metadata": {},
          "execution_count": 12
        }
      ]
    },
    {
      "cell_type": "markdown",
      "metadata": {
        "id": "bnrzEITeIkOP"
      },
      "source": [
        "# CRF Model Definition"
      ]
    },
    {
      "cell_type": "code",
      "metadata": {
        "id": "14vkO2bobJs4"
      },
      "source": [
        "crf = CRF(algorithm='lbfgs',\n",
        "          c1 = 15,\n",
        "          c2 = 0.1,\n",
        "          max_iterations=150,\n",
        "          all_possible_transitions=True)"
      ],
      "execution_count": 13,
      "outputs": []
    },
    {
      "cell_type": "markdown",
      "metadata": {
        "id": "xa2J9jhTIrjV"
      },
      "source": [
        "**Applying crf model to sets obtained above after splitting and obtaining the predicted labels. This section also generates report for various scores**"
      ]
    },
    {
      "cell_type": "code",
      "metadata": {
        "colab": {
          "base_uri": "https://localhost:8080/"
        },
        "id": "H8-ExZmk071z",
        "outputId": "6631b97a-5f17-42ae-b2e0-fa80384b1668"
      },
      "source": [
        "crf.fit(X_train, y_train)\n",
        "y_pred = crf.predict(X_test)\n",
        "print(metrics.flat_classification_report(y_test, y_pred, labels = classes))"
      ],
      "execution_count": 14,
      "outputs": [
        {
          "output_type": "stream",
          "name": "stdout",
          "text": [
            "              precision    recall  f1-score   support\n",
            "\n",
            "       B-art       0.00      0.00      0.00         2\n",
            "       B-eve       0.00      0.00      0.00         2\n",
            "       B-geo       0.80      0.62      0.70       655\n",
            "       B-gpe       0.69      0.83      0.76       613\n",
            "       B-nat       0.00      0.00      0.00         3\n",
            "       B-org       0.95      0.23      0.37       524\n",
            "       B-per       0.51      0.99      0.67       827\n",
            "       B-tim       1.00      0.56      0.72        96\n",
            "       I-art       0.00      0.00      0.00         0\n",
            "       I-eve       0.00      0.00      0.00         0\n",
            "       I-geo       0.00      0.00      0.00         0\n",
            "       I-gpe       0.00      0.00      0.00         0\n",
            "       I-nat       0.00      0.00      0.00         0\n",
            "       I-org       0.00      0.00      0.00         0\n",
            "       I-per       0.00      0.00      0.00         0\n",
            "       I-tim       0.00      0.00      0.00         0\n",
            "           O       0.99      0.94      0.96      6870\n",
            "\n",
            "   micro avg       0.87      0.87      0.87      9592\n",
            "   macro avg       0.29      0.25      0.25      9592\n",
            "weighted avg       0.91      0.87      0.87      9592\n",
            "\n"
          ]
        }
      ]
    },
    {
      "cell_type": "markdown",
      "metadata": {
        "id": "uyXtQpvtI9RG"
      },
      "source": [
        "# Performing One-Hot Encoding on the dataframe"
      ]
    },
    {
      "cell_type": "markdown",
      "metadata": {
        "id": "cp45PWyRJC8X"
      },
      "source": [
        "**Removing the NaN values from the dataset for proper encoding.**"
      ]
    },
    {
      "cell_type": "code",
      "metadata": {
        "id": "OtM7n_04Hq4w"
      },
      "source": [
        "df = df.fillna(method='ffill')"
      ],
      "execution_count": 16,
      "outputs": []
    },
    {
      "cell_type": "markdown",
      "metadata": {
        "id": "upuGkYjeJNDu"
      },
      "source": [
        "**Generating the encoded vectors, and labels and classes. This section also performs test and train set splitting.**"
      ]
    },
    {
      "cell_type": "code",
      "metadata": {
        "id": "OL3v6XJlIr50"
      },
      "source": [
        "X_sgd = df.drop('Tag', axis=1)\n",
        "v = DictVectorizer(sparse=True)\n",
        "X_sgd = v.fit_transform(X_sgd.to_dict('records'))\n",
        "y_sgd = df.Tag.values\n",
        "classes_sgd = classes\n",
        "X_train, X_test, y_train, y_test = train_test_split(X_sgd, y_sgd, test_size = 0.20)\n",
        "del X_sgd\n",
        "del y_sgd"
      ],
      "execution_count": 17,
      "outputs": []
    },
    {
      "cell_type": "markdown",
      "metadata": {
        "id": "eNYhF90VJX7u"
      },
      "source": [
        "# SGD Model Definition"
      ]
    },
    {
      "cell_type": "code",
      "metadata": {
        "id": "7M3PAH02Jw0x"
      },
      "source": [
        "sgd = SGDClassifier()"
      ],
      "execution_count": 18,
      "outputs": []
    },
    {
      "cell_type": "markdown",
      "metadata": {
        "id": "gETSwlyTJaQ9"
      },
      "source": [
        "**Applying sgd model to sets obtained above after splitting and obtaining the predicted labels. This section also generates report for various scores**"
      ]
    },
    {
      "cell_type": "code",
      "metadata": {
        "colab": {
          "base_uri": "https://localhost:8080/"
        },
        "id": "KL8y9KAWNiI4",
        "outputId": "a84937e9-b76c-44e1-a2b1-606105e5c467"
      },
      "source": [
        "sgd.partial_fit(X_train, y_train, classes_sgd)\n",
        "del X_train, y_train\n",
        "pred_sgd = sgd.predict(X_test)\n",
        "print(sklearn.metrics.classification_report(y_pred = pred_sgd, y_true = y_test, labels = classes_sgd))"
      ],
      "execution_count": 19,
      "outputs": [
        {
          "output_type": "stream",
          "name": "stdout",
          "text": [
            "              precision    recall  f1-score   support\n",
            "\n",
            "       B-art       0.04      0.34      0.07        68\n",
            "       B-eve       0.38      0.30      0.33        57\n",
            "       B-geo       0.81      0.80      0.81      7682\n",
            "       B-gpe       0.93      0.72      0.81      3112\n",
            "       B-nat       0.67      0.22      0.33        46\n",
            "       B-org       0.76      0.44      0.56      4080\n",
            "       B-per       0.82      0.57      0.67      3400\n",
            "       B-tim       0.52      0.64      0.57      4136\n",
            "       I-art       0.57      0.07      0.12        57\n",
            "       I-eve       1.00      0.06      0.11        54\n",
            "       I-geo       0.71      0.61      0.66      1504\n",
            "       I-gpe       0.00      0.00      0.00        31\n",
            "       I-nat       0.00      0.00      0.00        13\n",
            "       I-org       0.77      0.51      0.62      3373\n",
            "       I-per       0.68      0.70      0.69      3471\n",
            "       I-tim       0.48      0.01      0.02      1229\n",
            "           O       0.97      1.00      0.98    177402\n",
            "\n",
            "    accuracy                           0.94    209715\n",
            "   macro avg       0.59      0.41      0.43    209715\n",
            "weighted avg       0.94      0.94      0.93    209715\n",
            "\n"
          ]
        }
      ]
    }
  ]
}